{
  "nbformat": 4,
  "nbformat_minor": 0,
  "metadata": {
    "colab": {
      "provenance": []
    },
    "kernelspec": {
      "name": "python3",
      "display_name": "Python 3"
    },
    "language_info": {
      "name": "python"
    }
  },
  "cells": [
    {
      "cell_type": "markdown",
      "source": [
        "# パッケージインストール"
      ],
      "metadata": {
        "id": "odf7zqOhVK_f"
      }
    },
    {
      "cell_type": "code",
      "source": [
        "!pip install -U onnx\n",
        "!pip install -U onnxsim\n",
        "!pip install -U onnxruntime"
      ],
      "metadata": {
        "id": "hV_dhfRkA0ZT"
      },
      "execution_count": null,
      "outputs": []
    },
    {
      "cell_type": "markdown",
      "source": [
        "# LDC クローン"
      ],
      "metadata": {
        "id": "lLkoqNctVQG9"
      }
    },
    {
      "cell_type": "code",
      "execution_count": null,
      "metadata": {
        "id": "P-8IGHx7Afee"
      },
      "outputs": [],
      "source": [
        "!git clone https://github.com/xavysp/LDC.git\n",
        "%cd LDC"
      ]
    },
    {
      "cell_type": "markdown",
      "source": [
        "# モデルロード"
      ],
      "metadata": {
        "id": "8fbT4ZwJVUd6"
      }
    },
    {
      "cell_type": "code",
      "source": [
        "import torch\n",
        "from modelB4 import LDC\n",
        "\n",
        "model = LDC().to('cpu')\n",
        "model.load_state_dict(torch.load('checkpoints/BRIND/11/11_model.pth', map_location='cpu'))\n",
        "model.eval()"
      ],
      "metadata": {
        "id": "h_O2woV2hNKR"
      },
      "execution_count": null,
      "outputs": []
    },
    {
      "cell_type": "markdown",
      "source": [
        "# ONNX変換"
      ],
      "metadata": {
        "id": "wCTCf3CtVXWc"
      }
    },
    {
      "cell_type": "code",
      "source": [
        "def convert_to_onnx(\n",
        "    net=None, \n",
        "    input_shape=(512, 512), \n",
        "    onnx_filename='output.onnx',\n",
        "    device='cpu',\n",
        "):\n",
        "    input_image = torch.randn(1, 3, input_shape[1], input_shape[0]).to(device)\n",
        "\n",
        "    input_layer_names = ['input_image']\n",
        "    # output_layer_names = ['output_image']\n",
        "\n",
        "    torch.onnx.export(\n",
        "        net, \n",
        "        input_image,\n",
        "        onnx_filename, \n",
        "        verbose=True,\n",
        "        input_names=input_layer_names,\n",
        "        # output_names=output_layer_names,\n",
        "        opset_version=13,\n",
        "    )"
      ],
      "metadata": {
        "id": "GXX97Wjeh3C_"
      },
      "execution_count": 4,
      "outputs": []
    },
    {
      "cell_type": "code",
      "source": [
        "convert_to_onnx(model, input_shape=(640, 360), onnx_filename='LDC_640x360.onnx')\n",
        "convert_to_onnx(model, input_shape=(1920, 1080), onnx_filename='LDC_1920x1080.onnx')\n",
        "convert_to_onnx(model, input_shape=(3840, 2160), onnx_filename='LDC_3840x2160.onnx')"
      ],
      "metadata": {
        "id": "Enle5uZXrvrL"
      },
      "execution_count": null,
      "outputs": []
    }
  ]
}